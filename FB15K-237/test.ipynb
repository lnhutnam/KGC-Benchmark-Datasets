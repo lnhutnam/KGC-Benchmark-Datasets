{
 "cells": [
  {
   "cell_type": "code",
   "execution_count": 1,
   "metadata": {},
   "outputs": [],
   "source": [
    "import pandas as pd "
   ]
  },
  {
   "cell_type": "code",
   "execution_count": 4,
   "metadata": {},
   "outputs": [
    {
     "data": {
      "text/html": [
       "<div>\n",
       "<style scoped>\n",
       "    .dataframe tbody tr th:only-of-type {\n",
       "        vertical-align: middle;\n",
       "    }\n",
       "\n",
       "    .dataframe tbody tr th {\n",
       "        vertical-align: top;\n",
       "    }\n",
       "\n",
       "    .dataframe thead th {\n",
       "        text-align: right;\n",
       "    }\n",
       "</style>\n",
       "<table border=\"1\" class=\"dataframe\">\n",
       "  <thead>\n",
       "    <tr style=\"text-align: right;\">\n",
       "      <th></th>\n",
       "      <th>0</th>\n",
       "      <th>1</th>\n",
       "    </tr>\n",
       "  </thead>\n",
       "  <tbody>\n",
       "    <tr>\n",
       "      <th>0</th>\n",
       "      <td>/american_football/football_team/current_roste...</td>\n",
       "      <td>Irreflexive,Antisymmetric</td>\n",
       "    </tr>\n",
       "    <tr>\n",
       "      <th>1</th>\n",
       "      <td>/award/award_category/category_of</td>\n",
       "      <td>Antisymmetric</td>\n",
       "    </tr>\n",
       "    <tr>\n",
       "      <th>2</th>\n",
       "      <td>/award/award_category/disciplines_or_subjects</td>\n",
       "      <td>Irreflexive,Antisymmetric</td>\n",
       "    </tr>\n",
       "    <tr>\n",
       "      <th>3</th>\n",
       "      <td>/award/award_category/nominees./award/award_no...</td>\n",
       "      <td>Irreflexive,Antisymmetric</td>\n",
       "    </tr>\n",
       "    <tr>\n",
       "      <th>4</th>\n",
       "      <td>/award/award_category/winners./award/award_hon...</td>\n",
       "      <td>Irreflexive,Antisymmetric</td>\n",
       "    </tr>\n",
       "  </tbody>\n",
       "</table>\n",
       "</div>"
      ],
      "text/plain": [
       "                                                   0  \\\n",
       "0  /american_football/football_team/current_roste...   \n",
       "1                  /award/award_category/category_of   \n",
       "2      /award/award_category/disciplines_or_subjects   \n",
       "3  /award/award_category/nominees./award/award_no...   \n",
       "4  /award/award_category/winners./award/award_hon...   \n",
       "\n",
       "                           1  \n",
       "0  Irreflexive,Antisymmetric  \n",
       "1              Antisymmetric  \n",
       "2  Irreflexive,Antisymmetric  \n",
       "3  Irreflexive,Antisymmetric  \n",
       "4  Irreflexive,Antisymmetric  "
      ]
     },
     "execution_count": 4,
     "metadata": {},
     "output_type": "execute_result"
    }
   ],
   "source": [
    "df = pd.read_csv('relation_properties.csv', header=None, sep=';')\n",
    "df.head()"
   ]
  }
 ],
 "metadata": {
  "interpreter": {
   "hash": "876366550ae8d853288ad0546b00ef672c3efc80af42c5b68db6175c9671da3b"
  },
  "kernelspec": {
   "display_name": "Python 3.8.12 ('python38')",
   "language": "python",
   "name": "python3"
  },
  "language_info": {
   "codemirror_mode": {
    "name": "ipython",
    "version": 3
   },
   "file_extension": ".py",
   "mimetype": "text/x-python",
   "name": "python",
   "nbconvert_exporter": "python",
   "pygments_lexer": "ipython3",
   "version": "3.8.12"
  },
  "orig_nbformat": 4
 },
 "nbformat": 4,
 "nbformat_minor": 2
}
